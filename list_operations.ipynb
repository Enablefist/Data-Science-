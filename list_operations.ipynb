{
 "cells": [
  {
   "cell_type": "code",
   "execution_count": 1,
   "metadata": {},
   "outputs": [],
   "source": [
    "list1=[1,2,3,4,5]"
   ]
  },
  {
   "cell_type": "code",
   "execution_count": 2,
   "metadata": {},
   "outputs": [
    {
     "name": "stdout",
     "output_type": "stream",
     "text": [
      "5\n",
      "2\n",
      "5\n",
      "5\n",
      "4\n",
      "[1, 2, 3]\n",
      "[1, 3, 5]\n",
      "[1, 4]\n"
     ]
    }
   ],
   "source": [
    "#All list operations\n",
    "print(len(list1))\n",
    "#Accessing items of a List\n",
    "#Using indexing, we can access any item from a list using its index number\n",
    "#Using slicing, we can access a range of items from a list\n",
    "print(list1[1])\n",
    "print(list1[4])\n",
    "#negitve indexing\n",
    "print(list1[-1])\n",
    "print(list1[-2])\n",
    "#slicing\n",
    "#syntax listname[start:end:step]\n",
    "print(list1[0:3])\n",
    "print(list1[0:5:2])\n",
    "print(list1[0:5:3])"
   ]
  },
  {
   "cell_type": "code",
   "execution_count": 3,
   "metadata": {},
   "outputs": [
    {
     "name": "stdout",
     "output_type": "stream",
     "text": [
      "[5, 4, 3, 2, 1]\n"
     ]
    }
   ],
   "source": [
    "#reversing list\n",
    "print(list1[::-1])"
   ]
  },
  {
   "cell_type": "code",
   "execution_count": 4,
   "metadata": {},
   "outputs": [
    {
     "name": "stdout",
     "output_type": "stream",
     "text": [
      "5\n",
      "8\n",
      "Tom\n",
      "7.5\n",
      "Emma\n"
     ]
    }
   ],
   "source": [
    "#Iterate along with an index number\n",
    "my_list = [5, 8, 'Tom', 7.50, 'Emma']\n",
    "for i in range(0,len(my_list)):\n",
    "    print(my_list[i])"
   ]
  },
  {
   "cell_type": "code",
   "execution_count": 6,
   "metadata": {},
   "outputs": [
    {
     "name": "stdout",
     "output_type": "stream",
     "text": [
      "[5, 8, 'Tom', 7.5, 'Emma']\n",
      "[5, 8, 'Tom', 7.5, 'Emma', [25, 50, 75]]\n"
     ]
    }
   ],
   "source": [
    "#Adding elements to the list using append(),insert(),extend()\n",
    "my_list = list([5, 8, 'Tom', 7.50])\n",
    "my_list.append('Emma')\n",
    "print(my_list)\n",
    "my_list.append([25,50,75])\n",
    "print(my_list)"
   ]
  },
  {
   "cell_type": "code",
   "execution_count": 8,
   "metadata": {},
   "outputs": [
    {
     "name": "stdout",
     "output_type": "stream",
     "text": [
      "[5, 8, 25, 'Tom', 7.5]\n"
     ]
    }
   ],
   "source": [
    "#Add item at the specified position in the list\n",
    "my_list = list([5, 8, 'Tom', 7.50])\n",
    "my_list.insert(2,25)\n",
    "print(my_list)\n",
    "#insert(index, object)"
   ]
  },
  {
   "cell_type": "code",
   "execution_count": 9,
   "metadata": {},
   "outputs": [
    {
     "name": "stdout",
     "output_type": "stream",
     "text": [
      "[5, 8, 'Tom', 7.5, 25, 75, 100]\n"
     ]
    }
   ],
   "source": [
    "#using extend\n",
    "my_list = list([5, 8, 'Tom', 7.50])\n",
    "\n",
    "# Using extend()\n",
    "my_list.extend([25, 75, 100])\n",
    "print(my_list)\n"
   ]
  },
  {
   "cell_type": "code",
   "execution_count": 10,
   "metadata": {},
   "outputs": [
    {
     "name": "stdout",
     "output_type": "stream",
     "text": [
      "[20, 3, 4, 5, 6, 7, 8]\n",
      "[20, 40, 60, 80, 6, 7, 8]\n"
     ]
    }
   ],
   "source": [
    "#Modify the items of a List\n",
    "#Modify the individual item.\n",
    "#Modify the range of items\n",
    "my_list=list([2,3,4,5,6,7,8])\n",
    "my_list[0]=20\n",
    "print(my_list)\n",
    "#modifying range of elements\n",
    "my_list[1:4] = [40, 60, 80]\n",
    "print(my_list)"
   ]
  },
  {
   "cell_type": "code",
   "execution_count": 12,
   "metadata": {},
   "outputs": [
    {
     "name": "stdout",
     "output_type": "stream",
     "text": [
      "[2, 4, 6, 8]\n"
     ]
    }
   ],
   "source": [
    "#Modify all items\n",
    "my_list=list([2,4,6,8])\n",
    "for i in range(len(my_list)):\n",
    "    square=my_list[i]*my_list[i]\n",
    "print(my_list)"
   ]
  },
  {
   "cell_type": "code",
   "execution_count": 16,
   "metadata": {},
   "outputs": [
    {
     "name": "stdout",
     "output_type": "stream",
     "text": [
      "[2, 4, 6, 8, 10]\n",
      "[2, 4, 6, 8]\n",
      "[2, 6, 8]\n"
     ]
    }
   ],
   "source": [
    "#Removing elements from a List\n",
    "\"\"\" remove(item)\n",
    "pop(index)\n",
    "clear()\n",
    "del list_name \"\"\"\n",
    "my_list = list([2, 4, 6, 8, 10, 12])\n",
    "my_list.pop()\n",
    "print(my_list)\n",
    "my_list.pop()\n",
    "print(my_list)\n",
    "my_list.remove(4)\n",
    "print(my_list)"
   ]
  },
  {
   "cell_type": "code",
   "execution_count": 17,
   "metadata": {},
   "outputs": [
    {
     "name": "stdout",
     "output_type": "stream",
     "text": [
      "3\n"
     ]
    }
   ],
   "source": [
    "#Finding an element in the list\n",
    "my_list = list([2, 4, 6, 8, 10, 12])\n",
    "\n",
    "print(my_list.index(8))\n"
   ]
  },
  {
   "cell_type": "code",
   "execution_count": 18,
   "metadata": {},
   "outputs": [
    {
     "name": "stdout",
     "output_type": "stream",
     "text": [
      "[1, 2, 3, 4, 5, 6]\n",
      "[1, 2, 3, 4, 5, 6]\n"
     ]
    }
   ],
   "source": [
    "#Concatenation of two lists\n",
    "#Using the + operator.\n",
    "#Using the extend() method. The extend() method appends the new list’s items at the end of the calling list.\n",
    "my_list1 = [1, 2, 3]\n",
    "my_list2 = [4, 5, 6]\n",
    "\n",
    "# Using + operator\n",
    "my_list3 = my_list1 + my_list2\n",
    "print(my_list3)\n",
    "# Output [1, 2, 3, 4, 5, 6]\n",
    "\n",
    "# Using extend() method\n",
    "my_list1.extend(my_list2)\n",
    "print(my_list1)\n",
    "# Output [1, 2, 3, 4, 5, 6]"
   ]
  },
  {
   "cell_type": "code",
   "execution_count": 19,
   "metadata": {},
   "outputs": [
    {
     "name": "stdout",
     "output_type": "stream",
     "text": [
      "[1, 2, 3]\n",
      "[1, 2, 3, 4]\n",
      "[1, 2, 3, 4]\n"
     ]
    }
   ],
   "source": [
    "#copying a list\n",
    "#using assignment operator\n",
    "##deep copy \n",
    "my_list1=[1,2,3]\n",
    "new_list=my_list1\n",
    "print(new_list)\n",
    "# making changes in the original list\n",
    "my_list1.append(4)\n",
    "\n",
    "# print both copies\n",
    "print(my_list1)\n",
    "# result [1, 2, 3, 4]\n",
    "print(new_list)\n",
    "# result [1, 2, 3, 4]"
   ]
  },
  {
   "cell_type": "code",
   "execution_count": 20,
   "metadata": {},
   "outputs": [
    {
     "name": "stdout",
     "output_type": "stream",
     "text": [
      "[1, 2, 3]\n",
      "[1, 2, 3, 4]\n",
      "[1, 2, 3]\n"
     ]
    }
   ],
   "source": [
    "#shallow copy\n",
    "my_list1 = [1, 2, 3]\n",
    "\n",
    "# Using copy() method\n",
    "new_list = my_list1.copy()\n",
    "# printing the new list\n",
    "print(new_list)\n",
    "# Output [1, 2, 3]\n",
    "# making changes in the original list\n",
    "my_list1.append(4)\n",
    "\n",
    "# print both copies\n",
    "print(my_list1)\n",
    "# result [1, 2, 3, 4]\n",
    "print(new_list)\n",
    "# result [1, 2, 3]"
   ]
  },
  {
   "cell_type": "code",
   "execution_count": 25,
   "metadata": {},
   "outputs": [
    {
     "name": "stdout",
     "output_type": "stream",
     "text": [
      "[4, 5, 6]\n",
      "[6, 5, 4]\n"
     ]
    }
   ],
   "source": [
    "#List operations\n",
    "#sort(), reverse(), clear() etc\n",
    "mylist2=[3,2,1]\n",
    "my_list2.sort()\n",
    "print(my_list2)\n",
    "\n",
    "my_list2.reverse()\n",
    "print(my_list2)"
   ]
  },
  {
   "cell_type": "code",
   "execution_count": 27,
   "metadata": {},
   "outputs": [
    {
     "name": "stdout",
     "output_type": "stream",
     "text": [
      "6\n",
      "1\n",
      "19\n"
     ]
    }
   ],
   "source": [
    "#Python Built-in functions with List\n",
    "#using max() and min()\n",
    "mylist = [3, 4, 5, 6, 1]\n",
    "print(max(mylist)) #returns the maximum number in the list.\n",
    "print(min(mylist)) #returns the minimum number in the list.\n",
    "print(sum(mylist))"
   ]
  },
  {
   "cell_type": "code",
   "execution_count": 29,
   "metadata": {},
   "outputs": [
    {
     "name": "stdout",
     "output_type": "stream",
     "text": [
      "all() All True values:: True\n",
      "all() with One false value :: False\n",
      "all() with all false values :: False\n"
     ]
    }
   ],
   "source": [
    "#all()\n",
    "#In the case of all() function, the return value will be true only when all the values inside the list are true. Let us see the different item values and the return values\n",
    "samplelist1 = [1,1,True]\n",
    "print(\"all() All True values::\",all(samplelist1))\n",
    "\n",
    "#with one false\n",
    "samplelist2 = [0,1,True,1]\n",
    "print(\"all() with One false value ::\",all(samplelist2))\n",
    "\n",
    "#with all false\n",
    "samplelist3 = [0,0,False]\n",
    "print(\"all() with all false values ::\",all(samplelist3))\n",
    "\n",
    "#empty list\n",
    "samplelist4 = []"
   ]
  },
  {
   "cell_type": "code",
   "execution_count": 30,
   "metadata": {},
   "outputs": [
    {
     "name": "stdout",
     "output_type": "stream",
     "text": [
      "any() True values:: True\n",
      "any() One false value :: True\n",
      "any() all false values :: False\n",
      "any() Empty list :: False\n"
     ]
    }
   ],
   "source": [
    "#The any() method will return true if there is at least one true value. In the case of Empty List, it will return false.\n",
    "#with all true values\n",
    "samplelist1 = [1,1,True]\n",
    "print(\"any() True values::\",any(samplelist1))\n",
    "\n",
    "#with one false\n",
    "samplelist2 = [0,1,True,1]\n",
    "print(\"any() One false value ::\",any(samplelist2))\n",
    "\n",
    "\n",
    "#with all false\n",
    "samplelist3 = [0,0,False]\n",
    "print(\"any() all false values ::\",any(samplelist3))\n",
    "\n",
    "#empty list\n",
    "samplelist4 = []\n",
    "print(\"any() Empty list ::\",any(samplelist4))"
   ]
  },
  {
   "cell_type": "code",
   "execution_count": 31,
   "metadata": {},
   "outputs": [
    {
     "name": "stdout",
     "output_type": "stream",
     "text": [
      "Accessing the third element of the second list 5\n",
      "list [2, 4, 6, 8, 10] elements\n",
      "2\n",
      "4\n",
      "6\n",
      "8\n",
      "10\n",
      "list [1, 3, 5, 7, 9] elements\n",
      "1\n",
      "3\n",
      "5\n",
      "7\n",
      "9\n"
     ]
    }
   ],
   "source": [
    "#Nested List\n",
    "mylist = [3, 4, 5, 6, 3, [1, 2, 3], 4]\n",
    "nestedlist = [[2,4,6,8,10],[1,3,5,7,9]]\n",
    "\n",
    "print(\"Accessing the third element of the second list\",nestedlist[1][2])\n",
    "for i in nestedlist:\n",
    "  print(\"list\",i,\"elements\")\n",
    "  for j in i:\n",
    "    print(j)"
   ]
  },
  {
   "cell_type": "code",
   "execution_count": 32,
   "metadata": {},
   "outputs": [
    {
     "name": "stdout",
     "output_type": "stream",
     "text": [
      "[16, 324, 400]\n"
     ]
    }
   ],
   "source": [
    "#List Comprehension\n",
    "#outputList = {expression(variable) for variable in inputList [if variable condition1][if variable condition2]\n",
    "inputList = [4,7,11,13,18,20]\n",
    "squareList=[var**2 for var in inputList if var%2==0]\n",
    "print(squareList)"
   ]
  }
 ],
 "metadata": {
  "kernelspec": {
   "display_name": "Python 3",
   "language": "python",
   "name": "python3"
  },
  "language_info": {
   "codemirror_mode": {
    "name": "ipython",
    "version": 3
   },
   "file_extension": ".py",
   "mimetype": "text/x-python",
   "name": "python",
   "nbconvert_exporter": "python",
   "pygments_lexer": "ipython3",
   "version": "3.9.0"
  },
  "orig_nbformat": 4
 },
 "nbformat": 4,
 "nbformat_minor": 2
}

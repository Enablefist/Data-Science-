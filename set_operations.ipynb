{
 "cells": [
  {
   "cell_type": "code",
   "execution_count": 2,
   "metadata": {},
   "outputs": [
    {
     "name": "stdout",
     "output_type": "stream",
     "text": [
      "<class 'set'>\n",
      "{1, 2, 4, 5, 8}\n"
     ]
    }
   ],
   "source": [
    "\"\"\" In Python, a Set is an unordered collection of data items that are unique. In other words, Python Set is a collection of elements (Or objects) that contains no duplicate elements.\n",
    "Unlike List, Python Set doesn’t maintain the order of elements, i.e., It is an unordered data set. So you cannot access elements by their index or perform insert operation using an index number. \"\"\"\n",
    "#unorderd\n",
    "#unchangable\n",
    "#unique\n",
    "#heterogeneous \n",
    "s={1,5,2,4,5,8} #No duplicates are allowed\n",
    "print(type(s))\n",
    "print(s)"
   ]
  },
  {
   "cell_type": "code",
   "execution_count": 3,
   "metadata": {},
   "outputs": [
    {
     "name": "stdout",
     "output_type": "stream",
     "text": [
      "{'Jessa', 'Mark', 75.25, 25}\n",
      "{'Harry Potter', 'Atlas Shrugged', 'Angels and Demons'}\n",
      "<class 'set'>\n"
     ]
    }
   ],
   "source": [
    "#creating set using {} and set\n",
    "# create a set using {}\n",
    "# set of mixed types intger, string, and floats\n",
    "sample_set = {'Mark', 'Jessa', 25, 75.25}\n",
    "print(sample_set)\n",
    "# Output {25, 'Mark', 75.25, 'Jessa'}\n",
    "book_set=set((\"Harry Potter\", \"Angels and Demons\", \"Atlas Shrugged\"))\n",
    "print(book_set)\n",
    "print(type(book_set))"
   ]
  },
  {
   "cell_type": "code",
   "execution_count": 4,
   "metadata": {},
   "outputs": [
    {
     "name": "stdout",
     "output_type": "stream",
     "text": [
      "<class 'dict'>\n"
     ]
    }
   ],
   "source": [
    "#EMPTY SET\n",
    "empty_Set={}\n",
    "print(type(empty_Set))\n",
    "#So whenever you wanted to create an empty set always use the set() constructor."
   ]
  },
  {
   "cell_type": "code",
   "execution_count": 5,
   "metadata": {},
   "outputs": [
    {
     "name": "stdout",
     "output_type": "stream",
     "text": [
      "Harry Potter\n",
      "Atlas Shrugged\n",
      "Angels and Demons\n"
     ]
    }
   ],
   "source": [
    "#Accessing items of a set\n",
    "book_set = {\"Harry Potter\", \"Angels and Demons\", \"Atlas Shrugged\"}\n",
    "for book in book_set:\n",
    "    print(book)"
   ]
  },
  {
   "cell_type": "code",
   "execution_count": 6,
   "metadata": {},
   "outputs": [
    {
     "name": "stdout",
     "output_type": "stream",
     "text": [
      "Book exists in the book set\n",
      "False\n"
     ]
    }
   ],
   "source": [
    "#Checking if an item exists in Set\n",
    "book_set = {\"Harry Potter\", \"Angels and Demons\", \"Atlas Shrugged\"}\n",
    "if 'Harry Potter' in book_set:\n",
    "    print(\"Book exists in the book set\")\n",
    "else:\n",
    "    print(\"Book doesn't exist in the book set\")\n",
    "# Output Book exists in the book set\n",
    "\n",
    "# check another item which is not present inside a set\n",
    "print(\"A Man called Ove\" in book_set)  \n",
    "# Output False"
   ]
  },
  {
   "cell_type": "code",
   "execution_count": 7,
   "metadata": {},
   "outputs": [
    {
     "name": "stdout",
     "output_type": "stream",
     "text": [
      "3\n"
     ]
    }
   ],
   "source": [
    "#Find the length of a set\n",
    "# create a set using set constructor\n",
    "book_set = {\"Harry Potter\", \"Angels and Demons\", \"Atlas Shrugged\"}\n",
    "print(len(book_set))\n",
    "# Output 3"
   ]
  },
  {
   "cell_type": "code",
   "execution_count": 8,
   "metadata": {},
   "outputs": [
    {
     "name": "stdout",
     "output_type": "stream",
     "text": [
      "{'Harry Potter', 'Atlas Shrugged', 'Angels and Demons'}\n",
      "{'Harry Potter', 'Ulysses', 'Atlas Shrugged', 'Angels and Demons'}\n"
     ]
    }
   ],
   "source": [
    "#Adding items to a Set\n",
    "#add() and update() methods\n",
    "book_set = {'Harry Potter', 'Angels and Demons'}\n",
    "book_set.add('Atlas Shrugged')\n",
    "print(book_set)\n",
    "# Output {'Harry Potter', 'Angels and Demons', 'Atlas Shrugged'}\n",
    "# update() method to add more than one item\n",
    "book_set.update(['Atlas Shrugged', 'Ulysses'])\n",
    "print(book_set)"
   ]
  },
  {
   "cell_type": "code",
   "execution_count": 9,
   "metadata": {},
   "outputs": [
    {
     "name": "stdout",
     "output_type": "stream",
     "text": [
      "{'Atlas Shrugged', 'Angels and Demons'}\n",
      "{'Angels and Demons'}\n",
      "set()\n",
      "set()\n"
     ]
    },
    {
     "ename": "NameError",
     "evalue": "name 'book_set' is not defined",
     "output_type": "error",
     "traceback": [
      "\u001b[1;31m---------------------------------------------------------------------------\u001b[0m",
      "\u001b[1;31mNameError\u001b[0m                                 Traceback (most recent call last)",
      "Cell \u001b[1;32mIn[9], line 21\u001b[0m\n\u001b[0;32m     19\u001b[0m \u001b[39m# Output set()\u001b[39;00m\n\u001b[0;32m     20\u001b[0m \u001b[39mdel\u001b[39;00m book_set\n\u001b[1;32m---> 21\u001b[0m \u001b[39mprint\u001b[39m(book_set)\n\u001b[0;32m     22\u001b[0m \u001b[39m# Output NameError: name 'book_set' is not defined\u001b[39;00m\n",
      "\u001b[1;31mNameError\u001b[0m: name 'book_set' is not defined"
     ]
    }
   ],
   "source": [
    "#Removing item(s) from a set\n",
    "#remove() -->Throw an erroe if element not present\n",
    "#discard()-->It will not throw any error if it is not present.\n",
    "#pop()-->It will remove the last element from the set.\n",
    "#clear()-->It will remove all the elements from the set.\n",
    "#del-->It will delete the set completely.\n",
    "book_set = {'Harry Potter', 'Angels and Demons', 'Atlas Shrugged'}\n",
    "book_set.remove('Harry Potter')\n",
    "print(book_set)\n",
    "# Output {'Angels and Demons', 'Atlas Shrugged'}\n",
    "book_set.discard('Atlas Shrugged')\n",
    "print(book_set)\n",
    "# Output {'Angels and Demons'}\n",
    "book_set.pop()\n",
    "print(book_set)\n",
    "# Output {'Atlas Shrugged'}\n",
    "book_set.clear()\n",
    "print(book_set)\n",
    "# Output set()\n",
    "del book_set\n",
    "print(book_set)\n",
    "# Output NameError: name 'book_set' is not defined"
   ]
  },
  {
   "cell_type": "code",
   "execution_count": 10,
   "metadata": {},
   "outputs": [
    {
     "name": "stdout",
     "output_type": "stream",
     "text": [
      "{1, 2, 3, 4, 5, 6, 7, 8}\n",
      "{1, 2, 3, 4, 5, 6, 7, 8}\n",
      "{4, 5}\n",
      "{4, 5}\n",
      "{1, 2, 3}\n",
      "{1, 2, 3}\n",
      "{1, 2, 3, 6, 7, 8}\n",
      "{1, 2, 3, 6, 7, 8}\n",
      "True\n",
      "False\n",
      "True\n",
      "True\n",
      "True\n",
      "False\n",
      "True\n",
      "True\n",
      "True\n",
      "True\n",
      "True\n",
      "False\n",
      "False\n"
     ]
    },
    {
     "ename": "AttributeError",
     "evalue": "'frozenset' object has no attribute 'add'",
     "output_type": "error",
     "traceback": [
      "\u001b[1;31m---------------------------------------------------------------------------\u001b[0m",
      "\u001b[1;31mAttributeError\u001b[0m                            Traceback (most recent call last)",
      "Cell \u001b[1;32mIn[10], line 127\u001b[0m\n\u001b[0;32m    125\u001b[0m B \u001b[39m=\u001b[39m \u001b[39mfrozenset\u001b[39m([\u001b[39m3\u001b[39m, \u001b[39m4\u001b[39m, \u001b[39m5\u001b[39m, \u001b[39m6\u001b[39m])\n\u001b[0;32m    126\u001b[0m \u001b[39m# try to add element in A\u001b[39;00m\n\u001b[1;32m--> 127\u001b[0m A\u001b[39m.\u001b[39;49madd(\u001b[39m5\u001b[39m)\n\u001b[0;32m    128\u001b[0m \u001b[39m# Output AttributeError: 'frozenset' object has no attribute 'add'\u001b[39;00m\n\u001b[0;32m    129\u001b[0m \u001b[39m# try to add element in B\u001b[39;00m\n\u001b[0;32m    130\u001b[0m B\u001b[39m.\u001b[39madd(\u001b[39m7\u001b[39m)\n",
      "\u001b[1;31mAttributeError\u001b[0m: 'frozenset' object has no attribute 'add'"
     ]
    }
   ],
   "source": [
    "#Set Operations\n",
    "#Union\n",
    "#Intersection\n",
    "#Difference\n",
    "#Symmetric Difference\n",
    "#Subset\n",
    "#Superset\n",
    "#Disjoint\n",
    "#-->Union\n",
    "#The union of two sets A and B is the set of elements which are in A, in B, or in both A and B.\n",
    "#Union of A and B is represented as A ∪ B\n",
    "#Union of two sets can be performed using | operator or union() method.\n",
    "# create two sets\n",
    "A = {1, 2, 3, 4, 5}\n",
    "B = {4, 5, 6, 7, 8}\n",
    "# union of two sets using | operator\n",
    "print(A | B)\n",
    "# Output {1, 2, 3, 4, 5, 6, 7, 8}\n",
    "# union of two sets using union() method\n",
    "print(A.union(B))\n",
    "# Output {1, 2, 3, 4, 5, 6, 7, 8}\n",
    "# Intersection\n",
    "#The intersection of two sets A and B is the set of elements which are in both A and B.\n",
    "#Intersection of A and B is represented as A ∩ B\n",
    "#Intersection of two sets can be performed using & operator or intersection() method.\n",
    "# create two sets\n",
    "A = {1, 2, 3, 4, 5}\n",
    "B = {4, 5, 6, 7, 8}\n",
    "# intersection of two sets using & operator\n",
    "print(A & B)\n",
    "# Output {4, 5}\n",
    "# intersection of two sets using intersection() method\n",
    "print(A.intersection(B))\n",
    "# Output {4, 5}\n",
    "# Difference\n",
    "#The difference of two sets A and B is the set of elements which are only in A but not in B.\n",
    "#Difference of A and B is represented as A – B\n",
    "#Difference of two sets can be performed using - operator or difference() method.\n",
    "# create two sets\n",
    "A = {1, 2, 3, 4, 5}\n",
    "B = {4, 5, 6, 7, 8}\n",
    "# difference of two sets using - operator\n",
    "print(A - B)\n",
    "# Output {1, 2, 3}\n",
    "# difference of two sets using difference() method\n",
    "print(A.difference(B))\n",
    "# Output {1, 2, 3}\n",
    "# Symmetric Difference\n",
    "#The symmetric difference of two sets A and B is the set of elements which are in either of the sets A or B but not in both.\n",
    "#Symmetric difference of A and B is represented as A Δ B\n",
    "#Symmetric difference of two sets can be performed using ^ operator or symmetric_difference() method\n",
    "# create two sets\n",
    "A = {1, 2, 3, 4, 5}\n",
    "B = {4, 5, 6, 7, 8}\n",
    "# symmetric difference of two sets using ^ operator\n",
    "print(A ^ B)\n",
    "# Output {1, 2, 3, 6, 7, 8}\n",
    "# symmetric difference of two sets using symmetric_difference() method\n",
    "print(A.symmetric_difference(B))\n",
    "# Output {1, 2, 3, 6, 7, 8}\n",
    "# Subset\n",
    "#A set A is said to be a subset of another set B if all the elements of A are in B.\n",
    "#Subset of A and B is represented as A ⊆ B\n",
    "#Subset of two sets can be checked using <= operator or issubset() method.\n",
    "# create two sets\n",
    "A = {1, 2, 3, 4, 5}\n",
    "B = {1, 2, 3, 4, 5, 6, 7, 8}\n",
    "# check if A is subset of B\n",
    "print(A <= B)\n",
    "# Output True\n",
    "# check if B is subset of A\n",
    "print(B <= A)\n",
    "# Output False\n",
    "# check if A is subset of A\n",
    "print(A <= A)\n",
    "# Output True\n",
    "# check if B is subset of B\n",
    "print(B <= B)\n",
    "# Output True\n",
    "# check if A is subset of B using issubset() method\n",
    "print(A.issubset(B))\n",
    "# Output True\n",
    "# Superset\n",
    "#A set A is said to be a superset of another set B if all the elements of B are in A.\n",
    "#Superset of A and B is represented as A ⊇ B\n",
    "#Superset of two sets can be checked using >= operator or issuperset() method.\n",
    "# create two sets\n",
    "A = {1, 2, 3, 4, 5}\n",
    "B = {1, 2, 3, 4, 5, 6, 7, 8}\n",
    "# check if A is superset of B\n",
    "print(A >= B)\n",
    "# Output False\n",
    "# check if B is superset of A\n",
    "print(B >= A)\n",
    "# Output True\n",
    "# check if A is superset of A\n",
    "print(A >= A)\n",
    "# Output True\n",
    "# check if B is superset of B\n",
    "print(B >= B)\n",
    "# Output True\n",
    "# check if B is superset of A using issuperset() method\n",
    "print(B.issuperset(A))\n",
    "# Output True\n",
    "# Disjoint\n",
    "#Two sets are said to be disjoint sets if they have no common elements.\n",
    "#Disjoint sets can be checked using isdisjoint() method.\n",
    "# create two sets\n",
    "A = {1, 2, 3, 4, 5}\n",
    "B = {6, 7, 8, 9, 10}\n",
    "# check if A and B are disjoint sets\n",
    "print(A.isdisjoint(B))\n",
    "# Output True\n",
    "# check if A and A are disjoint sets\n",
    "print(A.isdisjoint(A))\n",
    "# Output False\n",
    "# check if B and B are disjoint sets\n",
    "print(B.isdisjoint(B))\n",
    "# Output False\n",
    "# Frozen Sets\n",
    "#Frozen sets are immutable objects that only support methods and operators that produce a result without affecting the frozen set or sets to which they are applied.\n",
    "#Frozensets can be created using the function frozenset()\n",
    "# create a frozen set\n",
    "A = frozenset([1, 2, 3, 4])\n",
    "B = frozenset([3, 4, 5, 6])\n",
    "# try to add element in A\n",
    "A.add(5)\n",
    "# Output AttributeError: 'frozenset' object has no attribute 'add'\n",
    "# try to add element in B\n",
    "B.add(7)\n",
    "# Output AttributeError: 'frozenset' object has no attribute 'add'\n",
    "# try to remove element from A\n",
    "A.remove(1)\n",
    "# Output AttributeError: 'frozenset' object has no attribute 'remove'\n",
    "# try to remove element from B\n",
    "B.remove(5)\n",
    "# Output AttributeError: 'frozenset' object has no attribute 'remove'\n",
    "# try to discard element from A\n",
    "A.discard(2)\n",
    "# Output AttributeError: 'frozenset' object has no attribute 'discard'\n",
    "# try to discard element from B\n",
    "B.discard(6)\n",
    "# Output AttributeError: 'frozenset' object has no attribute 'discard'\n",
    "# try to pop element from A\n",
    "A.pop()\n",
    "# Output AttributeError: 'frozenset' object has no attribute 'pop'\n",
    "# try to pop element from B\n",
    "B.pop()\n",
    "# Output AttributeError: 'frozenset' object has no attribute 'pop'\n",
    "# try to update element in A\n",
    "A.update([1])\n",
    "# Output AttributeError: 'frozenset' object has no attribute 'update'\n",
    "# try to update element in B\n",
    "B.update([5])\n",
    "# Output AttributeError: 'frozenset' object has no attribute 'update'\n",
    "# try to clear element in A\n",
    "A.clear()\n",
    "# Output AttributeError: 'frozenset' object has no attribute 'clear'\n",
    "# try to clear element in B\n",
    "B.clear()\n",
    "# Output AttributeError: 'frozenset' object has no attribute 'clear'\n",
    "# try to union A and B\n",
    "print(A | B)\n",
    "# Output frozenset({1, 2, 3, 4, 5, 6})\n",
    "# try to intersection A and B\n",
    "print(A & B)\n",
    "# Output frozenset({3, 4})\n",
    "# try to difference A and B\n",
    "print(A - B)\n",
    "# Output frozenset({1, 2})\n",
    "# try to symmetric difference A and B\n",
    "print(A ^ B)\n",
    "# Output frozenset({1, 2, 5, 6})\n",
    "# try to check if A is subset of B\n",
    "print(A <= B)\n",
    "# Output False\n"
   ]
  },
  {
   "cell_type": "code",
   "execution_count": 12,
   "metadata": {},
   "outputs": [
    {
     "name": "stdout",
     "output_type": "stream",
     "text": [
      "{16, 64, 4, 36}\n"
     ]
    }
   ],
   "source": [
    "#syntax\n",
    "#outputSet = {expression(variable) for variable in inputSet [if variable condition1][if variable condition2]..}\n",
    "square_set = {var ** 2 for var in range(1, 10) if var % 2 == 0}\n",
    "print(square_set)"
   ]
  },
  {
   "cell_type": "code",
   "execution_count": 13,
   "metadata": {},
   "outputs": [],
   "source": [
    "#Set comprehension\n",
    "#Set comprehension is an elegant and concise way to create new sets from old sets.\n",
    "#Set comprehension is similar to list comprehension except that it uses curly braces { } instead of square brackets \n",
    "# create a set\n",
    "A = {x for x in 'abracadabra' if x not in 'abc'}\n",
    "# Output {'r', 'd'}\n",
    "# create a set\n",
    "B = {x for x in 'abracadabra' if x not in 'def'}\n",
    "# Output {'a', 'b', 'c', 'e', 'f'}"
   ]
  }
 ],
 "metadata": {
  "kernelspec": {
   "display_name": "Python 3",
   "language": "python",
   "name": "python3"
  },
  "language_info": {
   "codemirror_mode": {
    "name": "ipython",
    "version": 3
   },
   "file_extension": ".py",
   "mimetype": "text/x-python",
   "name": "python",
   "nbconvert_exporter": "python",
   "pygments_lexer": "ipython3",
   "version": "3.9.0"
  },
  "orig_nbformat": 4
 },
 "nbformat": 4,
 "nbformat_minor": 2
}

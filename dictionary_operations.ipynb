{
 "cells": [
  {
   "cell_type": "code",
   "execution_count": 1,
   "metadata": {},
   "outputs": [],
   "source": [
    "#Dictionaries are ordered collections of unique values stored in (Key-Value) pairs\n",
    "#Dictionaries are mutable\n",
    "#Dictionaries are defined using curly braces {}\n",
    "#Dictionaries are indexed using keys\n",
    "#Dictionaries are unordered\n",
    "#Dictionaries are not hashable\n",
    "#Dictionaries are not iterable"
   ]
  },
  {
   "cell_type": "code",
   "execution_count": 3,
   "metadata": {},
   "outputs": [
    {
     "name": "stdout",
     "output_type": "stream",
     "text": [
      "{'name': 'jessa', 'country': 'INDIA', 'telephone': 91}\n",
      "{'name': 'Mark', 'country': 'USA', 'telephone': 1178}\n"
     ]
    }
   ],
   "source": [
    "#creating dictionary\n",
    "#using curly{} and dict()\n",
    "person={\"name\":\"jessa\",\"country\":\"INDIA\",\"telephone\":+91}\n",
    "print(person)\n",
    "person = dict([(\"name\", \"Mark\"), (\"country\", \"USA\"), (\"telephone\", 1178)])\n",
    "print(person)\n"
   ]
  },
  {
   "cell_type": "code",
   "execution_count": 5,
   "metadata": {},
   "outputs": [
    {
     "name": "stdout",
     "output_type": "stream",
     "text": [
      "{'name': 'Jessa', 'telephones': [1178, 2563, 4569]}\n"
     ]
    }
   ],
   "source": [
    "# create dictionary with value as a list\n",
    "person = {\"name\": \"Jessa\", \"telephones\": [1178, 2563, 4569]}\n",
    "print(person)"
   ]
  },
  {
   "cell_type": "code",
   "execution_count": 7,
   "metadata": {},
   "outputs": [
    {
     "name": "stdout",
     "output_type": "stream",
     "text": [
      "Jessa\n",
      "USA\n"
     ]
    }
   ],
   "source": [
    "#Accessing elements of a dictionary\n",
    "#using [] and get()\n",
    "person={\"name\": \"Jessa\", \"country\": \"USA\", \"telephone\": 1178}\n",
    "print(person[\"name\"])\n",
    "print(person.get(\"country\"))"
   ]
  },
  {
   "cell_type": "code",
   "execution_count": 8,
   "metadata": {},
   "outputs": [
    {
     "name": "stdout",
     "output_type": "stream",
     "text": [
      "dict_keys(['name', 'country', 'telephone'])\n",
      "dict_values(['Jessa', 'USA', 1178])\n",
      "dict_items([('name', 'Jessa'), ('country', 'USA'), ('telephone', 1178)])\n"
     ]
    }
   ],
   "source": [
    "#using keys(),values() and items()\n",
    "person={\"name\": \"Jessa\", \"country\": \"USA\", \"telephone\": 1178}\n",
    "print(person.keys())\n",
    "print(person.values())\n",
    "print(person.items())"
   ]
  },
  {
   "cell_type": "code",
   "execution_count": 10,
   "metadata": {},
   "outputs": [
    {
     "name": "stdout",
     "output_type": "stream",
     "text": [
      "name : Jessa\n",
      "country : USA\n",
      "telephone : 1178\n",
      "name : Jessa\n",
      "country : USA\n",
      "telephone : 1178\n"
     ]
    }
   ],
   "source": [
    "#Iterating a dictionary\n",
    "person={\"name\": \"Jessa\", \"country\": \"USA\", \"telephone\": 1178}\n",
    "for key in person:\n",
    "    print(key,\":\",person[key])\n",
    "#using item() method\n",
    "for key,value in person.items():\n",
    "    print(key,\":\",value)"
   ]
  },
  {
   "cell_type": "code",
   "execution_count": 11,
   "metadata": {},
   "outputs": [
    {
     "name": "stdout",
     "output_type": "stream",
     "text": [
      "3\n",
      "5\n"
     ]
    }
   ],
   "source": [
    "#Find a length of a dictionary\n",
    "person={\"name\": \"Jessa\", \"country\": \"USA\", \"telephone\": 1178}\n",
    "print(len(person))\n",
    "#Find a length of a list\n",
    "person={\"name\": \"Jessa\", \"country\": \"USA\", \"telephone\": 1178}\n",
    "print(len(person[\"name\"]))"
   ]
  },
  {
   "cell_type": "code",
   "execution_count": 14,
   "metadata": {},
   "outputs": [
    {
     "name": "stdout",
     "output_type": "stream",
     "text": [
      "{'name': 'Jessa', 'country': 'USA', 'telephone': 1178, 'age': 20}\n",
      "{'name': 'Jessa', 'country': 'USA', 'telephone': 1178, 'age': 20, 'weight': 50, 'height': 6}\n"
     ]
    }
   ],
   "source": [
    "#Adding items to the dictionary\n",
    "person={\"name\": \"Jessa\", \"country\": \"USA\", \"telephone\": 1178}\n",
    "person[\"age\"]=20\n",
    "print(person)\n",
    "#using update() method\n",
    "#Note: We can also add more than one key using the update() method.\n",
    "person.update({\"weight\": 50, \"height\": 6})\n",
    "person.update({\"height\":6})\n",
    "print(person)"
   ]
  },
  {
   "cell_type": "code",
   "execution_count": 15,
   "metadata": {},
   "outputs": [
    {
     "name": "stdout",
     "output_type": "stream",
     "text": [
      "name : Jessa\n",
      "country : USA\n",
      "telephone : 1178\n",
      "state : Texas\n",
      "zip : None\n"
     ]
    }
   ],
   "source": [
    "person_details = {\"name\": \"Jessa\", \"country\": \"USA\", \"telephone\": 1178}\n",
    "\n",
    "# set default value if key doesn't exists\n",
    "person_details.setdefault('state', 'Texas')\n",
    "\n",
    "# key doesn't exists and value not mentioned. default None\n",
    "person_details.setdefault(\"zip\")\n",
    "\n",
    "# key exists and value mentioned. doesn't  change value\n",
    "person_details.setdefault('country', 'Canada')\n",
    "\n",
    "# Display dictionary\n",
    "for key, value in person_details.items():\n",
    "    print(key, ':', value)"
   ]
  },
  {
   "cell_type": "code",
   "execution_count": 17,
   "metadata": {},
   "outputs": [
    {
     "name": "stdout",
     "output_type": "stream",
     "text": [
      "{}\n",
      "{'country': 'USA', 'telephone': 1178}\n",
      "{'name': 'Jessa', 'country': 'USA'}\n",
      "{'country': 'USA', 'telephone': 1178}\n"
     ]
    }
   ],
   "source": [
    "#dictionary methods\n",
    "#clear() method\n",
    "person={\"name\": \"Jessa\", \"country\": \"USA\", \"telephone\": 1178}\n",
    "person.clear()\n",
    "print(person)\n",
    "#pop() method\n",
    "person={\"name\": \"Jessa\", \"country\": \"USA\", \"telephone\": 1178}\n",
    "person.pop(\"name\")\n",
    "print(person)\n",
    "#popitem() method\n",
    "#removes the last inserted item from the dictionary.\n",
    "person={\"name\": \"Jessa\", \"country\": \"USA\", \"telephone\": 1178}\n",
    "person.popitem()\n",
    "print(person)\n",
    "#del keyword\n",
    "person={\"name\": \"Jessa\", \"country\": \"USA\", \"telephone\": 1178}\n",
    "del person[\"name\"]\n",
    "print(person)"
   ]
  },
  {
   "cell_type": "code",
   "execution_count": 18,
   "metadata": {},
   "outputs": [
    {
     "name": "stdout",
     "output_type": "stream",
     "text": [
      "name exists\n"
     ]
    }
   ],
   "source": [
    "#Checking if a key exists\n",
    "person={\"name\": \"Jessa\", \"country\": \"USA\", \"telephone\": 1178}\n",
    "if \"name\" in person:\n",
    "    print(\"name exists\")\n",
    "else:\n",
    "    print(\"name does not exists\")"
   ]
  },
  {
   "cell_type": "code",
   "execution_count": 20,
   "metadata": {},
   "outputs": [
    {
     "name": "stdout",
     "output_type": "stream",
     "text": [
      "{'name': 'Jessa', 'country': 'USA', 'telephone': 1178, 'age': 20, 'weight': 50}\n",
      "{'name': 'Jessa', 'country': 'USA', 'telephone': 1178, 'age': 20, 'weight': 50}\n"
     ]
    }
   ],
   "source": [
    "#Join two dictionary\n",
    "person={\"name\": \"Jessa\", \"country\": \"USA\", \"telephone\": 1178}\n",
    "person1={\"age\":20,\"weight\":50}\n",
    "person.update(person1)\n",
    "print(person)\n",
    "#using **kwargs\n",
    "person={\"name\": \"Jessa\", \"country\": \"USA\", \"telephone\": 1178}\n",
    "person1={\"age\":20,\"weight\":50}\n",
    "person2={**person,**person1}\n",
    "print(person2)"
   ]
  },
  {
   "cell_type": "code",
   "execution_count": 21,
   "metadata": {},
   "outputs": [
    {
     "name": "stdout",
     "output_type": "stream",
     "text": [
      "66\n"
     ]
    }
   ],
   "source": [
    "#Join two dictionaries having few items in common\n",
    "#Note: One thing to note here is that if both the dictionaries have a common key then the first dictionary value will be overridden with the second dictionary value.\n",
    "dict1 = {'Jessa': 70, 'Arul': 80, 'Emma': 55}\n",
    "dict2 = {'Kelly': 68, 'Harry': 50, 'Emma': 66}\n",
    "# join two dictionaries with some common items\n",
    "dict1.update(dict2)\n",
    "# printing the updated dictionary\n",
    "print(dict1['Emma'])\n",
    "# Output 66"
   ]
  },
  {
   "cell_type": "code",
   "execution_count": 22,
   "metadata": {},
   "outputs": [
    {
     "name": "stdout",
     "output_type": "stream",
     "text": [
      "{'name': 'Jessa', 'country': 'USA', 'telephone': 1178}\n"
     ]
    }
   ],
   "source": [
    "#Copy a Dictionary\n",
    "person={\"name\": \"Jessa\", \"country\": \"USA\", \"telephone\": 1178}\n",
    "person1=person.copy()\n",
    "print(person1)"
   ]
  },
  {
   "cell_type": "code",
   "execution_count": 25,
   "metadata": {},
   "outputs": [
    {
     "name": "stdout",
     "output_type": "stream",
     "text": [
      "{'name': 'Jessa', 'country': 'USA', 'telephone': 1178}\n",
      "{'name': 'Jessa', 'country': 'USA', 'telephone': 1178, 'age': 22}\n"
     ]
    }
   ],
   "source": [
    "#using dict()\n",
    "person={\"name\": \"Jessa\", \"country\": \"USA\", \"telephone\": 1178}\n",
    "person1=dict(person)\n",
    "person1.update({'age':22})\n",
    "print(person)\n",
    "print(person1)"
   ]
  },
  {
   "cell_type": "code",
   "execution_count": 26,
   "metadata": {},
   "outputs": [
    {
     "name": "stdout",
     "output_type": "stream",
     "text": [
      "{'name': 'Jessa', 'country': 'USA', 'telephone': 1178, 'address': {'street': 'main street', 'city': 'texas'}}\n",
      "main street\n"
     ]
    }
   ],
   "source": [
    "#nested dictionary\n",
    "person={\"name\": \"Jessa\", \"country\": \"USA\", \"telephone\": 1178,\"address\":{\"street\":\"main street\",\"city\":\"texas\"}}\n",
    "print(person)\n",
    "print(person[\"address\"][\"street\"])"
   ]
  },
  {
   "cell_type": "code",
   "execution_count": 27,
   "metadata": {},
   "outputs": [
    {
     "name": "stdout",
     "output_type": "stream",
     "text": [
      "{'name': 'Jessa', 'country': 'USA', 'telephone': 1178, 'address': ['main street', 'texas']}\n",
      "main street\n"
     ]
    }
   ],
   "source": [
    "#nested list\n",
    "person={\"name\": \"Jessa\", \"country\": \"USA\", \"telephone\": 1178,\"address\":[\"main street\",\"texas\"]}\n",
    "print(person)\n",
    "print(person[\"address\"][0])"
   ]
  },
  {
   "cell_type": "code",
   "execution_count": 29,
   "metadata": {},
   "outputs": [
    {
     "name": "stdout",
     "output_type": "stream",
     "text": [
      "[('a', 35), ('b', 95), ('c', 45)]\n",
      "[('c', 45), ('b', 95), ('a', 35)]\n",
      "[('a', 35), ('c', 45), ('b', 95)]\n",
      "[('b', 95), ('c', 45), ('a', 35)]\n",
      "[35, 45, 95]\n"
     ]
    }
   ],
   "source": [
    "#sort dictionary\n",
    "dict1 = {'c': 45, 'b': 95, 'a': 35}\n",
    "print(sorted(dict1.items()))\n",
    "print(sorted(dict1.items(), reverse=True))\n",
    "print(sorted(dict1.items(), key=lambda x: x[1]))\n",
    "print(sorted(dict1.items(), key=lambda x: x[1], reverse=True))\n",
    "print(sorted(dict1.values()))"
   ]
  },
  {
   "cell_type": "code",
   "execution_count": 1,
   "metadata": {},
   "outputs": [
    {
     "name": "stdout",
     "output_type": "stream",
     "text": [
      "{2: 4, 8: 64}\n"
     ]
    }
   ],
   "source": [
    "#Dictionary comprehension\n",
    "#output_dictionary={key:value for key,value in iterable[if key,value conditin1]}\n",
    "#output_dictionary={key:value for key,value in iterable[if key,value conditin1] else [if key,value conditin2]}\n",
    "numbers=[1,3,5,2,8]\n",
    "even_aquares={x:x**2 for x in numbers if x%2==0}\n",
    "print(even_aquares)"
   ]
  },
  {
   "cell_type": "code",
   "execution_count": 3,
   "metadata": {},
   "outputs": [
    {
     "name": "stdout",
     "output_type": "stream",
     "text": [
      "{'Jessa': 1178, 'Emma': 4020, 'Kelly': 5786}\n"
     ]
    }
   ],
   "source": [
    "telephone_book = [1178, 4020, 5786]\n",
    "persons = ['Jessa', 'Emma', 'Kelly']\n",
    "telephone_book={key:value for key,value in zip(persons,telephone_book)}\n",
    "print(telephone_book) "
   ]
  },
  {
   "cell_type": "code",
   "execution_count": 4,
   "metadata": {},
   "outputs": [
    {
     "name": "stdout",
     "output_type": "stream",
     "text": [
      "c\n",
      "a\n"
     ]
    }
   ],
   "source": [
    "#Python Built-in functions with dictionary\n",
    "#max() and min()\n",
    "dict1 = {'c': 45, 'b': 95, 'a': 35}\n",
    "print(max(dict1))\n",
    "print(min(dict1))"
   ]
  },
  {
   "cell_type": "code",
   "execution_count": 6,
   "metadata": {},
   "outputs": [
    {
     "name": "stdout",
     "output_type": "stream",
     "text": [
      "All True Keys:: True\n",
      "One False Key False\n",
      "Empty Dictionary True\n",
      "With 0 in single quotes True\n"
     ]
    }
   ],
   "source": [
    "# all() is used with the dictionary the return value will be true in the case of all – true keys and false in case one of the keys is false.\n",
    "##dictionary with both 'true' keys\n",
    "dict1 = {1:'True',1:'False'}\n",
    "dict2 = {0:'True',1:'False'}\n",
    "#empty dictionary\n",
    "dict3= {}\n",
    "dict4 = {'0':False}\n",
    "print('All True Keys::',all(dict1))\n",
    "print('One False Key',all(dict2))\n",
    "print('Empty Dictionary',all(dict3))\n",
    "print('With 0 in single quotes',all(dict4))"
   ]
  },
  {
   "cell_type": "code",
   "execution_count": null,
   "metadata": {},
   "outputs": [],
   "source": []
  }
 ],
 "metadata": {
  "kernelspec": {
   "display_name": "Python 3",
   "language": "python",
   "name": "python3"
  },
  "language_info": {
   "codemirror_mode": {
    "name": "ipython",
    "version": 3
   },
   "file_extension": ".py",
   "mimetype": "text/x-python",
   "name": "python",
   "nbconvert_exporter": "python",
   "pygments_lexer": "ipython3",
   "version": "3.9.0"
  },
  "orig_nbformat": 4
 },
 "nbformat": 4,
 "nbformat_minor": 2
}

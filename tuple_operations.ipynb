{
 "cells": [
  {
   "cell_type": "code",
   "execution_count": null,
   "metadata": {},
   "outputs": [],
   "source": [
    "#When to use Tuple?\n",
    "\"\"\" As tuples and lists are similar data structures, and they both allow sequential data storage, tuples are often referred to as immutable lists. So the tuples are used for the following requirements instead of lists.\n",
    "\n",
    "There are no append() or extend() to add items and similarly no remove() or pop() methods to remove items. This ensures that the data is write-protected. As the tuples are Unchangeable, they can be used to represent read-only or fixed data that does not change.\n",
    "As they are immutable, they can be used as a key for the dictionaries, while lists cannot be used for this purpose.\n",
    "As they are immutable, the search operation is much faster than the lists. This is because the id of the items remains constant.\n",
    "Tuples contain heterogeneous (all types) data that offers huge flexibility in data that contains combinations of data types like alphanumeric characters. \"\"\""
   ]
  },
  {
   "cell_type": "code",
   "execution_count": 1,
   "metadata": {},
   "outputs": [
    {
     "name": "stdout",
     "output_type": "stream",
     "text": [
      "(5, 6, 8, 0, 1)\n"
     ]
    }
   ],
   "source": [
    "tuple_el=(5,6,8,0,1)\n",
    "print(tuple_el)"
   ]
  },
  {
   "cell_type": "code",
   "execution_count": 2,
   "metadata": {},
   "outputs": [
    {
     "name": "stdout",
     "output_type": "stream",
     "text": [
      "(10, 20, 25.75)\n",
      "('Jessa', 'Emma', 'Kelly')\n",
      "('Jessa', 30, 45.75, [25, 78])\n",
      "('Jessa', 30, 45.75, [23, 78])\n"
     ]
    }
   ],
   "source": [
    "#A tuple can have items of different data type integer, float, list, string, etc;\n",
    "# create a tuple using ()\n",
    "# number tuple\n",
    "number_tuple = (10, 20, 25.75)\n",
    "print(number_tuple)\n",
    "# Output (10, 20, 25.75)\n",
    "\n",
    "# string tuple\n",
    "string_tuple = ('Jessa', 'Emma', 'Kelly')\n",
    "print(string_tuple)\n",
    "# Output ('Jessa', 'Emma', 'Kelly')\n",
    "\n",
    "# mixed type tuple\n",
    "sample_tuple = ('Jessa', 30, 45.75, [25, 78])\n",
    "print(sample_tuple)\n",
    "# Output ('Jessa', 30, 45.75, [25, 78])\n",
    "\n",
    "# create a tuple using tuple() constructor\n",
    "sample_tuple2 = tuple(('Jessa', 30, 45.75, [23, 78]))\n",
    "print(sample_tuple2)\n",
    "# Output ('Jessa', 30, 45.75, [23, 78])"
   ]
  },
  {
   "cell_type": "code",
   "execution_count": 11,
   "metadata": {},
   "outputs": [
    {
     "name": "stdout",
     "output_type": "stream",
     "text": [
      "<class 'str'>\n",
      "Hello\n",
      "<class 'tuple'>\n",
      "('Hello',)\n"
     ]
    }
   ],
   "source": [
    "#Create a tuple with a single item\n",
    "\"\"\" A single item tuple is created by enclosing one item inside parentheses followed by a comma. \n",
    "If the tuple time is a string enclosed within parentheses and not followed by a comma, Python treats it as a str type. Let us see this with an example. \"\"\"\n",
    "single_tuple = ('Hello')\n",
    "print(type(single_tuple))  \n",
    "# Output class 'str'\n",
    "print(single_tuple)  \n",
    "# Output Hello\n",
    "\n",
    "# with comma\n",
    "single_tuple1 = ('Hello',)  \n",
    "# output class 'tuple'\n",
    "print(type(single_tuple1))  \n",
    "# Output ('Hello',)\n",
    "print(single_tuple1)"
   ]
  },
  {
   "cell_type": "code",
   "execution_count": 12,
   "metadata": {},
   "outputs": [
    {
     "name": "stdout",
     "output_type": "stream",
     "text": [
      "(1, 2, 'Hello')\n",
      "<class 'tuple'>\n",
      "1 2 Hello\n"
     ]
    }
   ],
   "source": [
    "#Packing and Unpacking\n",
    "\"\"\" In Python, we can create a tuple by packing a group of variables. Packing can be used when we want to collect multiple values in a single variable. Generally, this operation is referred to as tuple packing.\n",
    "Similarly, we can unpack the items by just assigning the tuple items to the same number of variables. This process is called “Unpacking.” \"\"\"\n",
    "# packing variables into tuple\n",
    "tuple1 = 1, 2, \"Hello\"\n",
    "# display tuple\n",
    "print(tuple1)  \n",
    "# Output (1, 2, 'Hello')\n",
    "\n",
    "print(type(tuple1))  \n",
    "# Output class 'tuple'\n",
    "\n",
    "# unpacking tuple into variable\n",
    "i, j, k = tuple1\n",
    "# printing the variables\n",
    "print(i, j, k)\n",
    "# Output 1 2 Hello"
   ]
  },
  {
   "cell_type": "code",
   "execution_count": 14,
   "metadata": {},
   "outputs": [
    {
     "name": "stdout",
     "output_type": "stream",
     "text": [
      "6\n"
     ]
    }
   ],
   "source": [
    "#Length of a Tuple\n",
    "\"\"\" The len() function returns the number of items in a tuple. \"\"\"\n",
    "tuple1 = ('P', 'Y', 'T', 'H', 'O', 'N')\n",
    "# length of a tuple\n",
    "print(len(tuple1))"
   ]
  },
  {
   "cell_type": "code",
   "execution_count": 15,
   "metadata": {},
   "outputs": [
    {
     "name": "stdout",
     "output_type": "stream",
     "text": [
      "1\n",
      "2\n",
      "3\n",
      "Hello\n",
      "[4, 8, 16]\n"
     ]
    }
   ],
   "source": [
    "#Iterating a Tuple\n",
    "sample_tuple = tuple((1, 2, 3, \"Hello\", [4, 8, 16]))\n",
    "for item in sample_tuple:\n",
    "    print(item)"
   ]
  },
  {
   "cell_type": "code",
   "execution_count": 17,
   "metadata": {},
   "outputs": [
    {
     "name": "stdout",
     "output_type": "stream",
     "text": [
      "P\n",
      "Y\n",
      "T\n",
      "H\n"
     ]
    }
   ],
   "source": [
    "#Accessing items of a Tuple\n",
    "#using Indexing \n",
    "#Using Slicing \n",
    "tuple1 = ('P', 'Y', 'T', 'H', 'O', 'N')\n",
    "for i in range(4):\n",
    "    print(tuple1[i])"
   ]
  },
  {
   "cell_type": "code",
   "execution_count": 18,
   "metadata": {},
   "outputs": [
    {
     "ename": "IndexError",
     "evalue": "tuple index out of range",
     "output_type": "error",
     "traceback": [
      "\u001b[1;31m---------------------------------------------------------------------------\u001b[0m",
      "\u001b[1;31mIndexError\u001b[0m                                Traceback (most recent call last)",
      "Cell \u001b[1;32mIn[18], line 4\u001b[0m\n\u001b[0;32m      1\u001b[0m tuple1 \u001b[39m=\u001b[39m (\u001b[39m'\u001b[39m\u001b[39mP\u001b[39m\u001b[39m'\u001b[39m, \u001b[39m'\u001b[39m\u001b[39mY\u001b[39m\u001b[39m'\u001b[39m, \u001b[39m'\u001b[39m\u001b[39mT\u001b[39m\u001b[39m'\u001b[39m, \u001b[39m'\u001b[39m\u001b[39mH\u001b[39m\u001b[39m'\u001b[39m, \u001b[39m'\u001b[39m\u001b[39mO\u001b[39m\u001b[39m'\u001b[39m, \u001b[39m'\u001b[39m\u001b[39mN\u001b[39m\u001b[39m'\u001b[39m)\n\u001b[0;32m      3\u001b[0m \u001b[39m# IndexError: tuple index out of range\u001b[39;00m\n\u001b[1;32m----> 4\u001b[0m \u001b[39mprint\u001b[39m(tuple1[\u001b[39m7\u001b[39;49m])\n",
      "\u001b[1;31mIndexError\u001b[0m: tuple index out of range"
     ]
    }
   ],
   "source": [
    "tuple1 = ('P', 'Y', 'T', 'H', 'O', 'N')\n",
    "\n",
    "# IndexError: tuple index out of range\n",
    "print(tuple1[7])"
   ]
  },
  {
   "cell_type": "code",
   "execution_count": 20,
   "metadata": {},
   "outputs": [
    {
     "name": "stdout",
     "output_type": "stream",
     "text": [
      "N\n",
      "O\n",
      "P, Y, T, H, O, N, "
     ]
    }
   ],
   "source": [
    "#Negative Indexing\n",
    "print(tuple1[-1])  # N\n",
    "# print second last\n",
    "print(tuple1[-2])  # O\n",
    "for i in range(-6, 0):\n",
    "    print(tuple1[i], end=\", \")  "
   ]
  },
  {
   "cell_type": "code",
   "execution_count": 21,
   "metadata": {},
   "outputs": [
    {
     "name": "stdout",
     "output_type": "stream",
     "text": [
      "(1, 2, 3, 4)\n"
     ]
    }
   ],
   "source": [
    "tuple1 = (0, 1, 2, 3, 4, 5, 6, 7, 8, 9, 10)\n",
    "\n",
    "# slice a tuple with start and end index number\n",
    "print(tuple1[1:5])\n",
    "# Output (1, 2, 3, 4)"
   ]
  },
  {
   "cell_type": "code",
   "execution_count": 22,
   "metadata": {},
   "outputs": [
    {
     "name": "stdout",
     "output_type": "stream",
     "text": [
      "(0, 1, 2, 3, 4)\n",
      "(6, 7, 8, 9, 10)\n"
     ]
    }
   ],
   "source": [
    "tuple1 = (0, 1, 2, 3, 4, 5, 6, 7, 8, 9, 10)\n",
    "\n",
    "# slice a tuple without start index\n",
    "print(tuple1[:5])\n",
    "# Output (0, 1, 2, 3, 4)\n",
    "\n",
    "# slice a tuple without end index\n",
    "print(tuple1[6:])\n",
    "# Output (6, 7, 8, 9, 10)"
   ]
  },
  {
   "cell_type": "code",
   "execution_count": 23,
   "metadata": {},
   "outputs": [
    {
     "name": "stdout",
     "output_type": "stream",
     "text": [
      "(6, 7, 8, 9)\n"
     ]
    }
   ],
   "source": [
    "tuple1 = (0, 1, 2, 3, 4, 5, 6, 7, 8, 9, 10)\n",
    "\n",
    "# slice a tuple using negative indexing\n",
    "print(tuple1[-5:-1])"
   ]
  },
  {
   "cell_type": "code",
   "execution_count": 24,
   "metadata": {},
   "outputs": [
    {
     "name": "stdout",
     "output_type": "stream",
     "text": [
      "2\n"
     ]
    }
   ],
   "source": [
    "#Finding an item in a Tuple\n",
    "#The index() method accepts the following three arguments\n",
    "#item – The item which needs to be searched\n",
    "#start – (Optional) The starting value of the index from which the search will start\n",
    "#end – (Optional) The end value of the index search\n",
    "tuple1 = (10, 20, 30, 40, 50)\n",
    "\n",
    "# get index of item 30\n",
    "position = tuple1.index(30)\n",
    "print(position)"
   ]
  },
  {
   "cell_type": "code",
   "execution_count": 25,
   "metadata": {},
   "outputs": [
    {
     "name": "stdout",
     "output_type": "stream",
     "text": [
      "True\n",
      "False\n"
     ]
    }
   ],
   "source": [
    "tuple1 = (10, 20, 30, 40, 50, 60, 70, 80)\n",
    "# checking whether item 50 exists in tuple\n",
    "print(50 in tuple1)\n",
    "# Output True\n",
    "print(500 in tuple1)\n",
    "# Output False"
   ]
  },
  {
   "cell_type": "code",
   "execution_count": 26,
   "metadata": {},
   "outputs": [
    {
     "ename": "TypeError",
     "evalue": "'tuple' object does not support item assignment",
     "output_type": "error",
     "traceback": [
      "\u001b[1;31m---------------------------------------------------------------------------\u001b[0m",
      "\u001b[1;31mTypeError\u001b[0m                                 Traceback (most recent call last)",
      "Cell \u001b[1;32mIn[26], line 3\u001b[0m\n\u001b[0;32m      1\u001b[0m \u001b[39m#Adding and changing items in a Tuple\u001b[39;00m\n\u001b[0;32m      2\u001b[0m tuple1 \u001b[39m=\u001b[39m (\u001b[39m0\u001b[39m, \u001b[39m1\u001b[39m, \u001b[39m2\u001b[39m, \u001b[39m3\u001b[39m, \u001b[39m4\u001b[39m, \u001b[39m5\u001b[39m)\n\u001b[1;32m----> 3\u001b[0m tuple1[\u001b[39m1\u001b[39;49m] \u001b[39m=\u001b[39m \u001b[39m10\u001b[39m\n\u001b[0;32m      4\u001b[0m \u001b[39m# Output TypeError: 'tuple' object does not support item assignment\u001b[39;00m\n",
      "\u001b[1;31mTypeError\u001b[0m: 'tuple' object does not support item assignment"
     ]
    }
   ],
   "source": [
    "#Adding and changing items in a Tuple\n",
    "tuple1 = (0, 1, 2, 3, 4, 5)\n",
    "tuple1[1] = 10\n",
    "# Output TypeError: 'tuple' object does not support item assignment"
   ]
  },
  {
   "cell_type": "code",
   "execution_count": 27,
   "metadata": {},
   "outputs": [
    {
     "name": "stdout",
     "output_type": "stream",
     "text": [
      "(0, 1, 2, 3, 4, 5, 6)\n"
     ]
    }
   ],
   "source": [
    "\"\"\" As a workaround solution, we can convert the tuple to a list, add items, and then convert it back to a tuple. As tuples are ordered collection like lists the items always get added in the end. \"\"\"\n",
    "tuple1 = (0, 1, 2, 3, 4, 5)\n",
    "\n",
    "# converting tuple into a list\n",
    "sample_list = list(tuple1)\n",
    "# add item to list\n",
    "sample_list.append(6)\n",
    "\n",
    "# converting list back into a tuple\n",
    "tuple1 = tuple(sample_list)\n",
    "print(tuple1)  "
   ]
  },
  {
   "cell_type": "code",
   "execution_count": 28,
   "metadata": {},
   "outputs": [
    {
     "name": "stdout",
     "output_type": "stream",
     "text": [
      "(0, 1, 2, [10, 4, 5])\n"
     ]
    }
   ],
   "source": [
    "#Modify nested items of a tuple\n",
    "tuple1 = (0, 1, 2, [3, 4, 5])\n",
    "tuple1[3][0] = 10\n",
    "print(tuple1)"
   ]
  },
  {
   "cell_type": "code",
   "execution_count": 29,
   "metadata": {},
   "outputs": [
    {
     "ename": "NameError",
     "evalue": "name 'sampletup1' is not defined",
     "output_type": "error",
     "traceback": [
      "\u001b[1;31m---------------------------------------------------------------------------\u001b[0m",
      "\u001b[1;31mNameError\u001b[0m                                 Traceback (most recent call last)",
      "Cell \u001b[1;32mIn[29], line 9\u001b[0m\n\u001b[0;32m      6\u001b[0m sampletup1 \u001b[39m=\u001b[39m(\u001b[39m0\u001b[39m,\u001b[39m1\u001b[39m,\u001b[39m2\u001b[39m,\u001b[39m3\u001b[39m,\u001b[39m4\u001b[39m,\u001b[39m5\u001b[39m,\u001b[39m6\u001b[39m,\u001b[39m7\u001b[39m,\u001b[39m8\u001b[39m,\u001b[39m9\u001b[39m,\u001b[39m10\u001b[39m)\n\u001b[0;32m      7\u001b[0m \u001b[39mdel\u001b[39;00m sampletup1\n\u001b[1;32m----> 9\u001b[0m \u001b[39mprint\u001b[39m(sampletup1)\n",
      "\u001b[1;31mNameError\u001b[0m: name 'sampletup1' is not defined"
     ]
    }
   ],
   "source": [
    "#Removing items from a tuple\n",
    "\"\"\" Tuples are immutable so there are no pop() or remove() methods for the tuple. We can remove the items from a tuple using the following two ways.\n",
    "\n",
    "Using del keyword del keyword will delete the entire tuple\n",
    "By converting it into a list \"\"\"\n",
    "sampletup1 =(0,1,2,3,4,5,6,7,8,9,10)\n",
    "del sampletup1\n",
    "\n",
    "print(sampletup1)"
   ]
  },
  {
   "cell_type": "code",
   "execution_count": 30,
   "metadata": {},
   "outputs": [
    {
     "name": "stdout",
     "output_type": "stream",
     "text": [
      "(0, 1, 3, 4, 5)\n"
     ]
    }
   ],
   "source": [
    "#By converting it into a List\n",
    "#We can convert a tuple into a list and then remove any one item using the remove() method. Then again we will convert it back into a tuple using the tuple() constructor.\n",
    "tuple1 = (0, 1, 2, 3, 4, 5)\n",
    "\n",
    "# converting tuple into a list\n",
    "sample_list = list(tuple1)\n",
    "# reomve 2nd item\n",
    "sample_list.remove(2)\n",
    "\n",
    "# converting list back into a tuple\n",
    "tuple1 = tuple(sample_list)\n",
    "print(tuple1)  \n",
    "# Output (0, 1, 3, 4, 5)"
   ]
  },
  {
   "cell_type": "code",
   "execution_count": 31,
   "metadata": {},
   "outputs": [
    {
     "name": "stdout",
     "output_type": "stream",
     "text": [
      "3\n",
      "0\n"
     ]
    }
   ],
   "source": [
    "#Count the occurrence of an item in a tuple\n",
    "tuple1 = (10, 20, 60, 30, 60, 40, 60)\n",
    "# Count all occurrences of item 60\n",
    "count = tuple1.count(60)\n",
    "print(count)\n",
    "# Output 3\n",
    "\n",
    "count = tuple1.count(600)\n",
    "print(count)\n",
    "# Output 0"
   ]
  },
  {
   "cell_type": "code",
   "execution_count": 32,
   "metadata": {},
   "outputs": [
    {
     "name": "stdout",
     "output_type": "stream",
     "text": [
      "(0, 1, 2, 3, 4, 5)\n",
      "(0, 1, 2, 3, 4, 5)\n",
      "(0, 1, 2, 3, 4, 5, 6)\n"
     ]
    }
   ],
   "source": [
    "#Copying a tuple\n",
    "#We can create a copy of a tuple using the assignment operator '=' . This operation will create only a reference copy and not a deep copy because tuples are immutable.\n",
    "#Copying a tuple\n",
    "tuple1 = (0, 1, 2, 3, 4, 5)\n",
    "\n",
    "# copy tuple\n",
    "tuple2 = tuple1\n",
    "print(tuple2)\n",
    "# Output (0, 1, 2, 3, 4, 5)\n",
    "\n",
    "# changing tuple2\n",
    "# converting it into a list\n",
    "sample_list = list(tuple2)\n",
    "sample_list.append(6)\n",
    "\n",
    "# converting list back into a tuple2\n",
    "tuple2 = tuple(sample_list)\n",
    "\n",
    "# printing the two tuples\n",
    "print(tuple1)\n",
    "# Output (0, 1, 2, 3, 4, 5)\n",
    "print(tuple2)\n",
    "# Output (0, 1, 2, 3, 4, 5, 6)"
   ]
  },
  {
   "cell_type": "code",
   "execution_count": 33,
   "metadata": {},
   "outputs": [
    {
     "name": "stdout",
     "output_type": "stream",
     "text": [
      "(1, 2, 3, 4, 5, 3, 4, 5, 6, 7)\n"
     ]
    }
   ],
   "source": [
    "#Concatenating two Tuples\n",
    "tuple1 = (1, 2, 3, 4, 5)\n",
    "tuple2 = (3, 4, 5, 6, 7)\n",
    "\n",
    "# concatenate tuples using + operator\n",
    "tuple3 = tuple1 + tuple2\n",
    "print(tuple3)"
   ]
  },
  {
   "cell_type": "code",
   "execution_count": 34,
   "metadata": {},
   "outputs": [
    {
     "name": "stdout",
     "output_type": "stream",
     "text": [
      "(1, 2, 3, 4, 5, 3, 4, 5, 6, 7)\n"
     ]
    }
   ],
   "source": [
    "#Using the sum() function\n",
    "tuple1 = (1, 2, 3, 4, 5)\n",
    "tuple2 = (3, 4, 5, 6, 7)\n",
    "\n",
    "# using sum function\n",
    "tuple3 = sum((tuple1, tuple2), ())\n",
    "print(tuple3)"
   ]
  },
  {
   "cell_type": "code",
   "execution_count": 35,
   "metadata": {},
   "outputs": [
    {
     "name": "stdout",
     "output_type": "stream",
     "text": [
      "(1, 2, 3, 4, 5, 3, 4, 5, 6, 7)\n"
     ]
    }
   ],
   "source": [
    "#Using the chain() function\n",
    "import itertools\n",
    "tuple1 = (1, 2, 3, 4, 5)\n",
    "tuple2 = (3, 4, 5, 6, 7)\n",
    "tuple3 = tuple(item for item in itertools.chain(tuple1,tuple2))\n",
    "print(tuple3)"
   ]
  },
  {
   "cell_type": "code",
   "execution_count": 36,
   "metadata": {},
   "outputs": [
    {
     "name": "stdout",
     "output_type": "stream",
     "text": [
      "P\n",
      "tuple (20, 40, 60) elements\n",
      "20,40,60,\n",
      "\n",
      "tuple (10, 30, 50) elements\n",
      "10,30,50,\n",
      "\n",
      "tuple Python elements\n",
      "P,y,t,h,o,n,\n",
      "\n"
     ]
    }
   ],
   "source": [
    "#Nested Tuples\n",
    "nested_tuple=((20,40,60),(10, 30, 50), \"Python\")\n",
    "print(nested_tuple[2][0])\n",
    "for i in nested_tuple:\n",
    "    print(\"tuple\",i,\"elements\")\n",
    "    for j in i:\n",
    "        print(j,end=\",\")\n",
    "    print(\"\\n\")"
   ]
  },
  {
   "cell_type": "code",
   "execution_count": 37,
   "metadata": {},
   "outputs": [
    {
     "name": "stdout",
     "output_type": "stream",
     "text": [
      "zara\n",
      "abc\n",
      "22\n",
      "4\n"
     ]
    }
   ],
   "source": [
    "#Use built-in functions with tuple\n",
    "tuple1 = ('xyz', 'zara', 'abc')\n",
    "# The Maximum value in a string tuple\n",
    "print(max(tuple1))  \n",
    "# Output zara\n",
    "\n",
    "# The minimum value in a string tuple\n",
    "print(min(tuple1))\n",
    "# Output abc\n",
    "\n",
    "tuple2 = (11, 22, 10, 4)\n",
    "# The Maximum value in a integer tuple\n",
    "print(max(tuple2))\n",
    "# Output 22\n",
    "# The minimum value in a integer tuple\n",
    "print(min(tuple2))\n",
    "# Output 4"
   ]
  },
  {
   "cell_type": "code",
   "execution_count": 39,
   "metadata": {},
   "outputs": [
    {
     "ename": "TypeError",
     "evalue": "'>' not supported between instances of 'int' and 'str'",
     "output_type": "error",
     "traceback": [
      "\u001b[1;31m---------------------------------------------------------------------------\u001b[0m",
      "\u001b[1;31mTypeError\u001b[0m                                 Traceback (most recent call last)",
      "Cell \u001b[1;32mIn[39], line 3\u001b[0m\n\u001b[0;32m      1\u001b[0m tuple3 \u001b[39m=\u001b[39m (\u001b[39m'\u001b[39m\u001b[39ma\u001b[39m\u001b[39m'\u001b[39m, \u001b[39m'\u001b[39m\u001b[39me\u001b[39m\u001b[39m'\u001b[39m, \u001b[39m11\u001b[39m, \u001b[39m22\u001b[39m, \u001b[39m15\u001b[39m)\n\u001b[0;32m      2\u001b[0m \u001b[39m# max item\u001b[39;00m\n\u001b[1;32m----> 3\u001b[0m \u001b[39mprint\u001b[39m(\u001b[39mmax\u001b[39;49m(tuple3))\n",
      "\u001b[1;31mTypeError\u001b[0m: '>' not supported between instances of 'int' and 'str'"
     ]
    }
   ],
   "source": [
    "#Note: We can’t find the max() and min() for a heterogeneous tuple (mixed types of items). It will throw Type Error\n",
    "tuple3 = ('a', 'e', 11, 22, 15)\n",
    "# max item\n",
    "print(max(tuple3))"
   ]
  },
  {
   "cell_type": "code",
   "execution_count": 41,
   "metadata": {},
   "outputs": [
    {
     "name": "stdout",
     "output_type": "stream",
     "text": [
      "True\n",
      "True\n",
      "False\n",
      "False\n",
      "True\n"
     ]
    }
   ],
   "source": [
    "# all() with All True values\n",
    "tuple1 = (1, 1, True)\n",
    "print(all(tuple1))  # True\n",
    "\n",
    "# all() All True values\n",
    "tuple1 = (1, 1, True)\n",
    "print(all(tuple1))  # True\n",
    "\n",
    "# all() with One false value\n",
    "tuple2 = (0, 1, True, 1)\n",
    "print(all(tuple2))  # False\n",
    "\n",
    "# all() with all false values\n",
    "tuple3 = (0, 0, False)\n",
    "print(all(tuple3))  # False\n",
    "\n",
    "# all() Empty tuple\n",
    "tuple4 = ()\n",
    "print(all(tuple4))  # True"
   ]
  },
  {
   "cell_type": "code",
   "execution_count": 40,
   "metadata": {},
   "outputs": [
    {
     "name": "stdout",
     "output_type": "stream",
     "text": [
      "True\n",
      "True\n",
      "False\n",
      "False\n"
     ]
    }
   ],
   "source": [
    "# any() with All True values\n",
    "tuple1 = (1, 1, True)\n",
    "print(any(tuple1))  # True\n",
    "\n",
    "# any() with One false value\n",
    "tuple2 = (0, 1, True, 1)\n",
    "print(any(tuple2))  # True\n",
    "\n",
    "# any() with all false values\n",
    "tuple3 = (0, 0, False)\n",
    "print(any(tuple3))  # False\n",
    "\n",
    "# any() with Empty tuple\n",
    "tuple4 = ()\n",
    "print(any(tuple4))  # False"
   ]
  }
 ],
 "metadata": {
  "kernelspec": {
   "display_name": "Python 3",
   "language": "python",
   "name": "python3"
  },
  "language_info": {
   "codemirror_mode": {
    "name": "ipython",
    "version": 3
   },
   "file_extension": ".py",
   "mimetype": "text/x-python",
   "name": "python",
   "nbconvert_exporter": "python",
   "pygments_lexer": "ipython3",
   "version": "3.9.0"
  },
  "orig_nbformat": 4
 },
 "nbformat": 4,
 "nbformat_minor": 2
}
